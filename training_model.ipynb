{
 "cells": [
  {
   "cell_type": "code",
   "execution_count": 5,
   "metadata": {},
   "outputs": [],
   "source": [
    "import json\n",
    "import torch.nn as nn\n",
    "\n",
    "with open('unique_OA_Pairs.json','r') as f:\n",
    "    UniqeOAPairs = json.load(f)\n",
    "\n",
    "UniqeOAPairs = [tuple(pair) for pair in UniqeOAPairs]\n",
    "num_oas = len(UniqeOAPairs) \n",
    "\n",
    "with open('OA_Pairs.json','r') as f:\n",
    "    id2OAPairs = json.load(f)\n",
    "\n",
    "id2OAPairs = {id: list(set(tuple(pair) for pair in id2OAPairs[id])) for id in id2OAPairs.keys()}\n",
    "\n",
    "with open('vcoco_processed_data_all_2014.json', 'r') as f:\n",
    "    vcoco_data = json.load(f)\n",
    "    \n",
    "ids = list(vcoco_data.keys())\n",
    "\n",
    "train_ids = ids[:8000]\n",
    "test_ids = ids[8000:10000]\n",
    "\n",
    "train_data = [vcoco_data[id] for id in train_ids]\n",
    "test_data = [vcoco_data[id] for id in test_ids]\n",
    "\n",
    "\n",
    "import torch\n",
    "id2OAOneHot = {}\n",
    "\n",
    "for id, pairs in id2OAPairs.items():\n",
    "    # Filter pairs that are in UniqeOAPairs\n",
    "    valid_pairs = [pair for pair in pairs if pair in UniqeOAPairs]\n",
    "\n",
    "    # Get indices of valid pairs\n",
    "    indices = [UniqeOAPairs.index(pair) for pair in valid_pairs]\n",
    "\n",
    "    # Convert indices to one-hot encoding\n",
    "    oneHot = nn.functional.one_hot(torch.tensor(indices, dtype=int), num_classes=len(UniqeOAPairs))#gives batch of hot encoding (len(indices), len(UNiqeOAPairs))\n",
    "    \n",
    "    oneHot = oneHot.sum(axis = 0) #converts to single vector (1, len(UNiqeOAPairs))\n",
    "    # Store the one-hot encodings for the ID\n",
    "    id2OAOneHot[id] = oneHot\n"
   ]
  },
  {
   "cell_type": "code",
   "execution_count": null,
   "metadata": {},
   "outputs": [],
   "source": []
  }
 ],
 "metadata": {
  "kernelspec": {
   "display_name": "Python 3",
   "language": "python",
   "name": "python3"
  },
  "language_info": {
   "codemirror_mode": {
    "name": "ipython",
    "version": 3
   },
   "file_extension": ".py",
   "mimetype": "text/x-python",
   "name": "python",
   "nbconvert_exporter": "python",
   "pygments_lexer": "ipython3",
   "version": "3.12.2"
  }
 },
 "nbformat": 4,
 "nbformat_minor": 2
}
