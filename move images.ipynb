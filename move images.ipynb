{
 "cells": [
  {
   "cell_type": "code",
   "execution_count": 2,
   "metadata": {},
   "outputs": [],
   "source": [
    "import json\n",
    "\n",
    "with open('vcoco_processed_data_all_2014.json', 'r') as f:\n",
    "    vcoco_data = json.load(f)"
   ]
  },
  {
   "cell_type": "code",
   "execution_count": null,
   "metadata": {},
   "outputs": [],
   "source": [
    "import shutil\n",
    "import os\n",
    "\n",
    "# Define the destination folder where you want to move the files\n",
    "source_folder1 = 'C:/Users/bparaju/OneDrive - Oklahoma A and M System/ML Project/HOTR/v-coco/coco/images/train2014'\n",
    "source_folder2 = 'C:/Users/bparaju/OneDrive - Oklahoma A and M System/ML Project/HOTR/v-coco/coco/images/test2014'\n",
    "source_folder3 = 'C:/Users/bparaju/Downloads/val2014'\n",
    "\n",
    "destination_folder = '../images'\n",
    "# Ensure the destination folder exists, if not, create it\n",
    "os.makedirs(destination_folder, exist_ok=True)\n",
    "\n",
    "\n",
    "files = os.listdir(destination_folder)\n",
    "# Loop through the data and move files\n",
    "for id, data in vcoco_data.items():\n",
    "    print(data)\n",
    "    file_name = data['file_name']\n",
    "    \n",
    "    if(file_name) in files:\n",
    "        print('files already exists')\n",
    "        continue\n",
    "    \n",
    "    # Define the source file path\n",
    "    source_path = os.path.join(source_folder3, file_name)\n",
    "    # source_path = os.path.join(source_folder2, file_name)\n",
    "    # source_path = os.path.join(source_folder3, file_name)\n",
    "    \n",
    "    # Define the destination file path\n",
    "    destination_path = os.path.join(destination_folder, file_name)\n",
    "    \n",
    "    try:\n",
    "    # Move the file to the destination folder\n",
    "        shutil.move(source_path, destination_path)\n",
    "        # shutil.move('C:/Users/bparaju/OneDrive - Oklahoma A and M System/ML Project/HOTR/v-coco/coco/images/test2014', destination_path)\n",
    "    except:\n",
    "        \n",
    "        print(f\"Failed to move file {file_name}\")\n",
    "        continue\n",
    "    print(f\"Moved {file_name} to {destination_folder}\")\n"
   ]
  }
 ],
 "metadata": {
  "kernelspec": {
   "display_name": "Python 3",
   "language": "python",
   "name": "python3"
  },
  "language_info": {
   "codemirror_mode": {
    "name": "ipython",
    "version": 3
   },
   "file_extension": ".py",
   "mimetype": "text/x-python",
   "name": "python",
   "nbconvert_exporter": "python",
   "pygments_lexer": "ipython3",
   "version": "3.12.2"
  }
 },
 "nbformat": 4,
 "nbformat_minor": 2
}
