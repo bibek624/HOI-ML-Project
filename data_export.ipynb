{
 "cells": [
  {
   "cell_type": "code",
   "execution_count": 1,
   "metadata": {},
   "outputs": [],
   "source": [
    "import json\n",
    "\n",
    "folder = 'old_annotation_files'\n",
    "with open(folder+'/instances_vcoco_all_2014.json','rt') as file:\n",
    "    coco_data = json.load(file)\n",
    "        \n",
    "\n",
    "with open(folder + '/vcoco_trainval.json','rt') as file:\n",
    "    vcoco_data_trainval = json.load(file)\n",
    "    \n",
    "with open(folder + '/vcoco_test.json','rt') as file:\n",
    "    vcoco_data_test = json.load(file)\n",
    "    \n",
    "# vcoco_data.append(vcoco_data1)\n",
    "\n"
   ]
  },
  {
   "cell_type": "code",
   "execution_count": 3,
   "metadata": {},
   "outputs": [],
   "source": [
    "\n",
    "import numpy as np\n",
    "\n",
    "vcocoId2Data = {}\n",
    "\n",
    "\n",
    "vcoco_data_test_train = []\n",
    "vcoco_data_test_train.extend(vcoco_data_trainval)\n",
    "vcoco_data_test_train.extend(vcoco_data_test)\n",
    "\n",
    "for vData in vcoco_data_test_train:\n",
    "    action = vData['action_name']\n",
    "    roles = vData['role_name']\n",
    "    includes = vData['include']\n",
    "    \n",
    "    labels = vData['label']\n",
    "    labels = np.array(labels)\n",
    "    indices = np.where(labels==1)[0]\n",
    "    imgIds = np.array(vData['image_id'])[indices]\n",
    "    for imgId in imgIds:\n",
    "        if imgId not in vcocoId2Data:\n",
    "            vcocoId2Data[imgId] = {'actions': [], 'roles': [], 'includes':[]}  \n",
    "        vcocoId2Data[imgId]['actions'].append(action)\n",
    "        vcocoId2Data[imgId]['roles'].append(roles)\n",
    "        vcocoId2Data[imgId]['includes'].append(includes)   \n",
    "        \n",
    "  "
   ]
  },
  {
   "cell_type": "code",
   "execution_count": 3,
   "metadata": {},
   "outputs": [
    {
     "data": {
      "text/plain": [
       "26"
      ]
     },
     "execution_count": 3,
     "metadata": {},
     "output_type": "execute_result"
    }
   ],
   "source": [
    "len(vcoco_data_test)"
   ]
  },
  {
   "cell_type": "code",
   "execution_count": 4,
   "metadata": {},
   "outputs": [
    {
     "data": {
      "text/plain": [
       "dict_keys(['image_id', 'ann_id', 'role_object_id', 'label', 'action_name', 'role_name', 'include'])"
      ]
     },
     "execution_count": 4,
     "metadata": {},
     "output_type": "execute_result"
    }
   ],
   "source": [
    "vcoco_data_test[0].keys()"
   ]
  },
  {
   "cell_type": "code",
   "execution_count": 4,
   "metadata": {},
   "outputs": [],
   "source": [
    "id2Cat = {}\n",
    "for category in coco_data['categories']:\n",
    "    id2Cat[category['id']] = category['name']"
   ]
  },
  {
   "cell_type": "code",
   "execution_count": 5,
   "metadata": {},
   "outputs": [
    {
     "data": {
      "text/plain": [
       "{1: 'person',\n",
       " 2: 'bicycle',\n",
       " 3: 'car',\n",
       " 4: 'motorcycle',\n",
       " 5: 'airplane',\n",
       " 6: 'bus',\n",
       " 7: 'train',\n",
       " 8: 'truck',\n",
       " 9: 'boat',\n",
       " 10: 'traffic light',\n",
       " 11: 'fire hydrant',\n",
       " 13: 'stop sign',\n",
       " 14: 'parking meter',\n",
       " 15: 'bench',\n",
       " 16: 'bird',\n",
       " 17: 'cat',\n",
       " 18: 'dog',\n",
       " 19: 'horse',\n",
       " 20: 'sheep',\n",
       " 21: 'cow',\n",
       " 22: 'elephant',\n",
       " 23: 'bear',\n",
       " 24: 'zebra',\n",
       " 25: 'giraffe',\n",
       " 27: 'backpack',\n",
       " 28: 'umbrella',\n",
       " 31: 'handbag',\n",
       " 32: 'tie',\n",
       " 33: 'suitcase',\n",
       " 34: 'frisbee',\n",
       " 35: 'skis',\n",
       " 36: 'snowboard',\n",
       " 37: 'sports ball',\n",
       " 38: 'kite',\n",
       " 39: 'baseball bat',\n",
       " 40: 'baseball glove',\n",
       " 41: 'skateboard',\n",
       " 42: 'surfboard',\n",
       " 43: 'tennis racket',\n",
       " 44: 'bottle',\n",
       " 46: 'wine glass',\n",
       " 47: 'cup',\n",
       " 48: 'fork',\n",
       " 49: 'knife',\n",
       " 50: 'spoon',\n",
       " 51: 'bowl',\n",
       " 52: 'banana',\n",
       " 53: 'apple',\n",
       " 54: 'sandwich',\n",
       " 55: 'orange',\n",
       " 56: 'broccoli',\n",
       " 57: 'carrot',\n",
       " 58: 'hot dog',\n",
       " 59: 'pizza',\n",
       " 60: 'donut',\n",
       " 61: 'cake',\n",
       " 62: 'chair',\n",
       " 63: 'couch',\n",
       " 64: 'potted plant',\n",
       " 65: 'bed',\n",
       " 67: 'dining table',\n",
       " 70: 'toilet',\n",
       " 72: 'tv',\n",
       " 73: 'laptop',\n",
       " 74: 'mouse',\n",
       " 75: 'remote',\n",
       " 76: 'keyboard',\n",
       " 77: 'cell phone',\n",
       " 78: 'microwave',\n",
       " 79: 'oven',\n",
       " 80: 'toaster',\n",
       " 81: 'sink',\n",
       " 82: 'refrigerator',\n",
       " 84: 'book',\n",
       " 85: 'clock',\n",
       " 86: 'vase',\n",
       " 87: 'scissors',\n",
       " 88: 'teddy bear',\n",
       " 89: 'hair drier',\n",
       " 90: 'toothbrush'}"
      ]
     },
     "execution_count": 5,
     "metadata": {},
     "output_type": "execute_result"
    }
   ],
   "source": [
    "id2Cat"
   ]
  },
  {
   "cell_type": "code",
   "execution_count": 6,
   "metadata": {},
   "outputs": [],
   "source": [
    "id2annotations = {}\n",
    "\n",
    "for annotation in coco_data['annotations']:\n",
    "    \n",
    "    img_id = annotation['image_id']\n",
    "    \n",
    "    if img_id not in id2annotations:\n",
    "        id2annotations[img_id] = []  \n",
    "\n",
    "    id2annotations[img_id].append(annotation)       \n",
    "    "
   ]
  },
  {
   "cell_type": "code",
   "execution_count": 38,
   "metadata": {},
   "outputs": [
    {
     "name": "stdout",
     "output_type": "stream",
     "text": [
      "10308\n"
     ]
    }
   ],
   "source": [
    "id2ImageData = {}\n",
    "\n",
    "for image in coco_data['images']:\n",
    "    \n",
    "    data_dict = {'id': 0, 'file_name':'', 'url':'','height':0,'width':0, 'category_ids':[], 'bboxes':[], 'isCrowds':[], 'categories': []}\n",
    "    imgId = image.get(\"id\")\n",
    "    \n",
    "    try:\n",
    "        data_dict.update(vcocoId2Data[imgId])\n",
    "    except:\n",
    "        continue\n",
    "    \n",
    "    \n",
    "    data_dict['id'] = image.get(\"id\")\n",
    "    data_dict[\"file_name\"] = image.get(\"file_name\")\n",
    "    data_dict['url'] = image.get(\"coco_url\")\n",
    "    data_dict['height'] = image.get(\"height\")\n",
    "    data_dict['width'] = image.get(\"height\")\n",
    "    \n",
    "    \n",
    "    annotations= id2annotations[imgId]\n",
    "    \n",
    "    for annotation in annotations:\n",
    "            data_dict['category_ids'].append(annotation['category_id'])\n",
    "            data_dict['bboxes'].append(annotation['bbox'])\n",
    "            data_dict['isCrowds'].append(annotation['iscrowd'])\n",
    "            \n",
    "    for catIds in data_dict['category_ids']:\n",
    "        data_dict['categories'].append(id2Cat[catIds])\n",
    "        \n",
    "    \n",
    "    id2ImageData[imgId] = (data_dict)\n",
    "    \n",
    "print(len(id2ImageData.keys()))      \n"
   ]
  },
  {
   "cell_type": "code",
   "execution_count": null,
   "metadata": {},
   "outputs": [],
   "source": [
    "with open('vcoco_processed_data_all_2014.json',\"w\") as file:\n",
    "    json.dump(id2ImageData, file)"
   ]
  },
  {
   "cell_type": "code",
   "execution_count": 9,
   "metadata": {},
   "outputs": [
    {
     "name": "stdout",
     "output_type": "stream",
     "text": [
      "10308\n"
     ]
    }
   ],
   "source": [
    "#includes the segmentations as well\n",
    "\n",
    "id2ImageData = {}\n",
    "\n",
    "for image in coco_data['images']:\n",
    "    \n",
    "    data_dict = {'id': 0, 'file_name':'', 'url':'','height':0,'width':0, 'category_ids':[], 'bboxes':[], 'isCrowds':[], 'categories': [], 'segmentations':[]}\n",
    "    imgId = image.get(\"id\")\n",
    "    \n",
    "    try:\n",
    "        data_dict.update(vcocoId2Data[imgId])\n",
    "    except:\n",
    "        continue\n",
    "    \n",
    "    \n",
    "    data_dict['id'] = image.get(\"id\")\n",
    "    data_dict[\"file_name\"] = image.get(\"file_name\")\n",
    "    data_dict['url'] = image.get(\"coco_url\")\n",
    "    data_dict['height'] = image.get(\"height\")\n",
    "    data_dict['width'] = image.get(\"height\")\n",
    "    \n",
    "    \n",
    "    annotations= id2annotations[imgId]\n",
    "    \n",
    "    for annotation in annotations:\n",
    "            data_dict['category_ids'].append(annotation['category_id'])\n",
    "            data_dict['bboxes'].append(annotation['bbox'])\n",
    "            data_dict['isCrowds'].append(annotation['iscrowd'])\n",
    "            data_dict['segmentations'].append(annotation['segmentation'])\n",
    "            \n",
    "    for catIds in data_dict['category_ids']:\n",
    "        data_dict['categories'].append(id2Cat[catIds])\n",
    "        \n",
    "    \n",
    "    id2ImageData[imgId] = (data_dict)\n",
    "    \n",
    "print(len(id2ImageData.keys()))      \n"
   ]
  },
  {
   "cell_type": "code",
   "execution_count": 10,
   "metadata": {},
   "outputs": [],
   "source": [
    "with open('vcoco_processed_data_all_2014_segmentation.json',\"w\") as file:\n",
    "    json.dump(id2ImageData, file)"
   ]
  },
  {
   "cell_type": "code",
   "execution_count": 1,
   "metadata": {},
   "outputs": [],
   "source": [
    "import json\n",
    "with open('vcoco_processed_data_all_2014.json','rt') as file:\n",
    "    data = json.load(file)\n",
    "    "
   ]
  },
  {
   "cell_type": "code",
   "execution_count": 8,
   "metadata": {},
   "outputs": [
    {
     "data": {
      "text/plain": [
       "{'id': 264241,\n",
       " 'file_name': 'COCO_train2014_000000264241.jpg',\n",
       " 'url': 'http://images.cocodataset.org/train2014/COCO_train2014_000000264241.jpg',\n",
       " 'height': 427,\n",
       " 'width': 427,\n",
       " 'category_ids': [6,\n",
       "  27,\n",
       "  27,\n",
       "  31,\n",
       "  31,\n",
       "  33,\n",
       "  33,\n",
       "  33,\n",
       "  1,\n",
       "  1,\n",
       "  1,\n",
       "  1,\n",
       "  1,\n",
       "  1,\n",
       "  1,\n",
       "  1,\n",
       "  1,\n",
       "  1,\n",
       "  1,\n",
       "  1,\n",
       "  31,\n",
       "  77,\n",
       "  2,\n",
       "  27,\n",
       "  1,\n",
       "  3,\n",
       "  31,\n",
       "  31,\n",
       "  1],\n",
       " 'bboxes': [[0.0, 0.48, 252.93, 124.06],\n",
       "  [259.76, 126.28, 42.41, 93.97],\n",
       "  [447.77, 143.92, 66.11, 99.8],\n",
       "  [29.35, 134.77, 40.06, 106.57],\n",
       "  [514.82, 202.06, 33.84, 34.5],\n",
       "  [285.95, 296.5, 61.41, 94.04],\n",
       "  [359.83, 290.74, 69.09, 95.96],\n",
       "  [170.22, 325.54, 50.97, 78.86],\n",
       "  [39.43, 54.34, 164.45, 368.33],\n",
       "  [28.46, 67.03, 32.3, 70.51],\n",
       "  [321.17, 54.24, 99.4, 241.19],\n",
       "  [308.57, 130.3, 73.89, 257.8],\n",
       "  [436.6, 100.75, 94.03, 284.99],\n",
       "  [510.76, 55.33, 126.33, 371.67],\n",
       "  [509.52, 0.0, 128.09, 184.81],\n",
       "  [0.0, 86.77, 71.76, 288.9],\n",
       "  [200.04, 37.03, 104.82, 325.05],\n",
       "  [375.34, 49.94, 27.01, 53.12],\n",
       "  [177.61, 76.83, 29.03, 82.52],\n",
       "  [280.25, 65.15, 22.72, 62.33],\n",
       "  [609.55, 171.93, 22.1, 45.57],\n",
       "  [69.33, 352.06, 13.62, 18.2],\n",
       "  [272.5, 143.0, 154.0, 125.0],\n",
       "  [477.53, 60.37, 14.89, 44.86],\n",
       "  [298.34, 51.42, 46.23, 87.63],\n",
       "  [417.45, 78.5, 39.29, 57.57],\n",
       "  [500.92, 184.59, 29.53, 111.1],\n",
       "  [157.28, 109.59, 13.62, 18.77],\n",
       "  [60, 44, 579, 121]],\n",
       " 'isCrowds': [0,\n",
       "  0,\n",
       "  0,\n",
       "  0,\n",
       "  0,\n",
       "  0,\n",
       "  0,\n",
       "  0,\n",
       "  0,\n",
       "  0,\n",
       "  0,\n",
       "  0,\n",
       "  0,\n",
       "  0,\n",
       "  0,\n",
       "  0,\n",
       "  0,\n",
       "  0,\n",
       "  0,\n",
       "  0,\n",
       "  0,\n",
       "  0,\n",
       "  0,\n",
       "  0,\n",
       "  0,\n",
       "  0,\n",
       "  0,\n",
       "  0,\n",
       "  1],\n",
       " 'categories': ['bus',\n",
       "  'backpack',\n",
       "  'backpack',\n",
       "  'handbag',\n",
       "  'handbag',\n",
       "  'suitcase',\n",
       "  'suitcase',\n",
       "  'suitcase',\n",
       "  'person',\n",
       "  'person',\n",
       "  'person',\n",
       "  'person',\n",
       "  'person',\n",
       "  'person',\n",
       "  'person',\n",
       "  'person',\n",
       "  'person',\n",
       "  'person',\n",
       "  'person',\n",
       "  'person',\n",
       "  'handbag',\n",
       "  'cell phone',\n",
       "  'bicycle',\n",
       "  'backpack',\n",
       "  'person',\n",
       "  'car',\n",
       "  'handbag',\n",
       "  'handbag',\n",
       "  'person'],\n",
       " 'actions': ['hold', 'stand', 'stand', 'walk', 'walk'],\n",
       " 'roles': [['agent', 'obj'], ['agent'], ['agent'], ['agent'], ['agent']],\n",
       " 'includes': [[[], []], [[]], [[]], [[]], [[]]]}"
      ]
     },
     "execution_count": 8,
     "metadata": {},
     "output_type": "execute_result"
    }
   ],
   "source": [
    "list(data.values())[10]"
   ]
  },
  {
   "cell_type": "code",
   "execution_count": 4,
   "metadata": {},
   "outputs": [
    {
     "data": {
      "text/plain": [
       "{'id': 314645,\n",
       " 'file_name': 'COCO_train2014_000000314645.jpg',\n",
       " 'url': 'http://images.cocodataset.org/train2014/COCO_train2014_000000314645.jpg',\n",
       " 'height': 426,\n",
       " 'width': 426,\n",
       " 'category_ids': [1, 35, 36, 1, 1, 35, 27],\n",
       " 'bboxes': [[220.03, 167.8, 58.86, 80.66],\n",
       "  [234.41, 233.34, 62.08, 25.69],\n",
       "  [245.43, 238.03, 50.98, 15.13],\n",
       "  [456.25, 359.19, 36.02, 30.52],\n",
       "  [569.84, 278.46, 4.04, 9.0],\n",
       "  [494.77, 302.72, 42.76, 123.28],\n",
       "  [456.14, 365.91, 21.8, 17.44]],\n",
       " 'isCrowds': [0, 0, 0, 0, 0, 0, 0],\n",
       " 'categories': ['person',\n",
       "  'skis',\n",
       "  'snowboard',\n",
       "  'person',\n",
       "  'person',\n",
       "  'skis',\n",
       "  'backpack'],\n",
       " 'actions': ['look', 'jump', 'snowboard'],\n",
       " 'roles': [['agent', 'obj'], ['agent', 'instr'], ['agent', 'instr']],\n",
       " 'includes': [[[], []],\n",
       "  [[], ['snowboard', 'skis', 'skateboard', 'surfboard']],\n",
       "  [[], ['snowboard']]]}"
      ]
     },
     "execution_count": 4,
     "metadata": {},
     "output_type": "execute_result"
    }
   ],
   "source": [
    "list(data.values())[2001]"
   ]
  }
 ],
 "metadata": {
  "kernelspec": {
   "display_name": "Python 3",
   "language": "python",
   "name": "python3"
  },
  "language_info": {
   "codemirror_mode": {
    "name": "ipython",
    "version": 3
   },
   "file_extension": ".py",
   "mimetype": "text/x-python",
   "name": "python",
   "nbconvert_exporter": "python",
   "pygments_lexer": "ipython3",
   "version": "3.12.5"
  }
 },
 "nbformat": 4,
 "nbformat_minor": 2
}
